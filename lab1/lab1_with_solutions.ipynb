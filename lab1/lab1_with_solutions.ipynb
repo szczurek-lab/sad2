{
  "nbformat": 4,
  "nbformat_minor": 0,
  "metadata": {
    "colab": {
      "provenance": [],
      "collapsed_sections": [
        "au8A6Jmh5BKy"
      ]
    },
    "kernelspec": {
      "name": "python3",
      "display_name": "Python 3"
    },
    "language_info": {
      "name": "python"
    }
  },
  "cells": [
    {
      "cell_type": "code",
      "source": [
        "# imports general\n",
        "\n",
        "import torch\n",
        "import random \n",
        "import numpy as np\n",
        "import pandas as pd\n",
        "import matplotlib.pyplot as plt\n",
        "import seaborn as sns\n",
        "\n",
        "try:\n",
        "  import pyro \n",
        "except ModuleNotFoundError:\n",
        "  !pip install pyro-ppl\n",
        "  import pyro\n",
        "\n",
        "\n",
        "from torch.distributions import MultivariateNormal, Beta\n"
      ],
      "metadata": {
        "id": "dKTKOJCxqgUO",
        "colab": {
          "base_uri": "https://localhost:8080/"
        },
        "outputId": "ef0482df-5e3a-41d5-e260-e26612813ebb"
      },
      "execution_count": 2,
      "outputs": [
        {
          "output_type": "stream",
          "name": "stdout",
          "text": [
            "Looking in indexes: https://pypi.org/simple, https://us-python.pkg.dev/colab-wheels/public/simple/\n",
            "Collecting pyro-ppl\n",
            "  Downloading pyro_ppl-1.8.2-py3-none-any.whl (722 kB)\n",
            "\u001b[K     |████████████████████████████████| 722 kB 6.9 MB/s \n",
            "\u001b[?25hRequirement already satisfied: tqdm>=4.36 in /usr/local/lib/python3.7/dist-packages (from pyro-ppl) (4.64.1)\n",
            "Collecting pyro-api>=0.1.1\n",
            "  Downloading pyro_api-0.1.2-py3-none-any.whl (11 kB)\n",
            "Requirement already satisfied: opt-einsum>=2.3.2 in /usr/local/lib/python3.7/dist-packages (from pyro-ppl) (3.3.0)\n",
            "Requirement already satisfied: torch>=1.11.0 in /usr/local/lib/python3.7/dist-packages (from pyro-ppl) (1.12.1+cu113)\n",
            "Requirement already satisfied: numpy>=1.7 in /usr/local/lib/python3.7/dist-packages (from pyro-ppl) (1.21.6)\n",
            "Requirement already satisfied: typing-extensions in /usr/local/lib/python3.7/dist-packages (from torch>=1.11.0->pyro-ppl) (4.1.1)\n",
            "Installing collected packages: pyro-api, pyro-ppl\n",
            "Successfully installed pyro-api-0.1.2 pyro-ppl-1.8.2\n"
          ]
        }
      ]
    },
    {
      "cell_type": "markdown",
      "source": [
        "# Tensors and PyTorch\n",
        "\n",
        "Source: https://uvadlc-notebooks.readthedocs.io/en/latest/tutorial_notebooks/tutorial2/Introduction_to_PyTorch.html"
      ],
      "metadata": {
        "id": "au8A6Jmh5BKy"
      }
    },
    {
      "cell_type": "markdown",
      "source": [
        "## Basics"
      ],
      "metadata": {
        "id": "jipFhODL6UzA"
      }
    },
    {
      "cell_type": "markdown",
      "source": [
        "We will start with reviewing the basic concepts of PyTorch. As a prerequisite, we recommend to be familiar with the *numpy* package as most machine learning frameworks are based on very similar concepts. If you are not familiar with *numpy* yet, don't worry: here is a tutorial to go through. If you are familiar though, you might want to skip this.\n",
        "\n",
        "Let's start with importing PyTorch. The package is called torch, based on its original framework Torch. As a first step, we can check its version:"
      ],
      "metadata": {
        "id": "tAaaJ30a5a-O"
      }
    },
    {
      "cell_type": "code",
      "source": [
        "import torch\n",
        "\n",
        "print(\"Using torch\", torch.__version__)"
      ],
      "metadata": {
        "colab": {
          "base_uri": "https://localhost:8080/"
        },
        "id": "MuxTGyp65FGa",
        "outputId": "ac6037d7-8cb1-4e7f-969f-7c4406d0ff1e"
      },
      "execution_count": null,
      "outputs": [
        {
          "output_type": "stream",
          "name": "stdout",
          "text": [
            "Using torch 1.12.1+cu113\n"
          ]
        }
      ]
    },
    {
      "cell_type": "markdown",
      "source": [
        "As in every machine learning framework, PyTorch provides functions that are stochastic like generating random numbers. However, a very good practice is to setup your code to be reproducible with the exact same random numbers. This is why we set a seed below. As everyone knows, 42 is the best seed. "
      ],
      "metadata": {
        "id": "kenLf3Q55UYH"
      }
    },
    {
      "cell_type": "code",
      "source": [
        "torch.manual_seed(42) # Setting the seed"
      ],
      "metadata": {
        "id": "jN4YeYK85O92",
        "colab": {
          "base_uri": "https://localhost:8080/"
        },
        "outputId": "8666a7b7-40a7-4b4c-9c26-5922218457df"
      },
      "execution_count": null,
      "outputs": [
        {
          "output_type": "execute_result",
          "data": {
            "text/plain": [
              "<torch._C.Generator at 0x7fba5995f810>"
            ]
          },
          "metadata": {},
          "execution_count": 4
        }
      ]
    },
    {
      "cell_type": "markdown",
      "source": [
        "## Tensors"
      ],
      "metadata": {
        "id": "UtMeAk5f6aIw"
      }
    },
    {
      "cell_type": "markdown",
      "source": [
        "Let’s first start by looking at different ways of creating a tensor. There are many possible options, the simplest one is to call torch.Tensor passing the desired shape as input argument:"
      ],
      "metadata": {
        "id": "tjiKlKtK5kMO"
      }
    },
    {
      "cell_type": "code",
      "source": [
        "x = torch.Tensor(2, 3, 4)\n",
        "print(x)"
      ],
      "metadata": {
        "id": "13JCypzX5rb7",
        "colab": {
          "base_uri": "https://localhost:8080/"
        },
        "outputId": "b3be4a56-08c5-431c-fa47-ecb8382f9d4e"
      },
      "execution_count": null,
      "outputs": [
        {
          "output_type": "stream",
          "name": "stdout",
          "text": [
            "tensor([[[2.3560e-35, 0.0000e+00, 0.0000e+00, 0.0000e+00],\n",
            "         [0.0000e+00, 0.0000e+00, 0.0000e+00, 0.0000e+00],\n",
            "         [0.0000e+00, 0.0000e+00, 0.0000e+00, 0.0000e+00]],\n",
            "\n",
            "        [[0.0000e+00, 0.0000e+00, 0.0000e+00, 0.0000e+00],\n",
            "         [0.0000e+00, 0.0000e+00, 0.0000e+00, 0.0000e+00],\n",
            "         [0.0000e+00, 0.0000e+00, 0.0000e+00, 0.0000e+00]]])\n"
          ]
        }
      ]
    },
    {
      "cell_type": "markdown",
      "source": [
        "The function `torch.Tensor` allocates memory for the desired tensor, but reuses any values that have already been in the memory. To directly assign values to the tensor during initialization, there are many alternatives including:\n",
        "\n",
        "* `torch.zeros`: Creates a tensor filled with zeros\n",
        "* `torch.ones`: Creates a tensor filled with ones\n",
        "* `torch.rand`: Creates a tensor with random values uniformly sampled between 0 and 1\n",
        "* `torch.randn`: Creates a tensor with random values sampled from a normal distribution with mean 0 and variance 1\n",
        "* `torch.arange`: Creates a tensor containing the values $N,N+1,N+2,...,M$\n",
        "* `torch.Tensor` (input list): Creates a tensor from the list elements you provide"
      ],
      "metadata": {
        "id": "au3FWPn85zhN"
      }
    },
    {
      "cell_type": "code",
      "source": [
        "# Create a tensor from a (nested) list\n",
        "x = torch.Tensor([[1, 2], [3, 4]])\n",
        "print(x)"
      ],
      "metadata": {
        "id": "puiZq2LR5xaG",
        "colab": {
          "base_uri": "https://localhost:8080/"
        },
        "outputId": "c4c7ef43-347b-474f-c738-e12a70f79f6c"
      },
      "execution_count": null,
      "outputs": [
        {
          "output_type": "stream",
          "name": "stdout",
          "text": [
            "tensor([[1., 2.],\n",
            "        [3., 4.]])\n"
          ]
        }
      ]
    },
    {
      "cell_type": "code",
      "source": [
        "# Create a tensor with random values between 0 and 1 with the shape [2, 3, 4]\n",
        "x = torch.rand(2, 3, 4)\n",
        "print(x)"
      ],
      "metadata": {
        "id": "dBTpJxZQ52kX",
        "colab": {
          "base_uri": "https://localhost:8080/"
        },
        "outputId": "c508a16e-0d64-48ca-f9e0-780ca0a94337"
      },
      "execution_count": null,
      "outputs": [
        {
          "output_type": "stream",
          "name": "stdout",
          "text": [
            "tensor([[[0.8823, 0.9150, 0.3829, 0.9593],\n",
            "         [0.3904, 0.6009, 0.2566, 0.7936],\n",
            "         [0.9408, 0.1332, 0.9346, 0.5936]],\n",
            "\n",
            "        [[0.8694, 0.5677, 0.7411, 0.4294],\n",
            "         [0.8854, 0.5739, 0.2666, 0.6274],\n",
            "         [0.2696, 0.4414, 0.2969, 0.8317]]])\n"
          ]
        }
      ]
    },
    {
      "cell_type": "markdown",
      "source": [
        "You can obtain the shape of a tensor in the same way as in numpy (x.shape), or using the .size method:\n",
        "\n"
      ],
      "metadata": {
        "id": "LKgVwjKJ55Vt"
      }
    },
    {
      "cell_type": "code",
      "source": [
        "shape = x.shape\n",
        "print(\"Shape:\", x.shape)\n",
        "\n",
        "size = x.size()\n",
        "print(\"Size:\", size)\n",
        "\n",
        "dim1, dim2, dim3 = x.size()\n",
        "print(\"Size:\", dim1, dim2, dim3)"
      ],
      "metadata": {
        "id": "aDtIG6AX558M",
        "colab": {
          "base_uri": "https://localhost:8080/"
        },
        "outputId": "7f44d167-4e16-4316-fbec-ed0a82408fd3"
      },
      "execution_count": null,
      "outputs": [
        {
          "output_type": "stream",
          "name": "stdout",
          "text": [
            "Shape: torch.Size([2, 3, 4])\n",
            "Size: torch.Size([2, 3, 4])\n",
            "Size: 2 3 4\n"
          ]
        }
      ]
    },
    {
      "cell_type": "markdown",
      "source": [
        "## Tensors and NumPy"
      ],
      "metadata": {
        "id": "JrN2UZAb6haX"
      }
    },
    {
      "cell_type": "markdown",
      "source": [
        "Tensors can be converted to numpy arrays, and numpy arrays back to tensors. To transform a numpy array into a tensor, we can use the function torch.from_numpy:"
      ],
      "metadata": {
        "id": "S0dGF9-Z57-b"
      }
    },
    {
      "cell_type": "code",
      "source": [
        "np_arr = np.array([[1, 2], [3, 4]])\n",
        "tensor = torch.from_numpy(np_arr)\n",
        "\n",
        "print(\"Numpy array:\", np_arr)\n",
        "print(\"PyTorch tensor:\", tensor)"
      ],
      "metadata": {
        "id": "TodvhshX5-AJ",
        "colab": {
          "base_uri": "https://localhost:8080/"
        },
        "outputId": "3617cd98-3c24-45e8-ef60-a78658ac7d0a"
      },
      "execution_count": null,
      "outputs": [
        {
          "output_type": "stream",
          "name": "stdout",
          "text": [
            "Numpy array: [[1 2]\n",
            " [3 4]]\n",
            "PyTorch tensor: tensor([[1, 2],\n",
            "        [3, 4]])\n"
          ]
        }
      ]
    },
    {
      "cell_type": "markdown",
      "source": [
        "To transform a PyTorch tensor back to a numpy array, we can use the function .numpy() on tensors:"
      ],
      "metadata": {
        "id": "nkAc9l1s6AVu"
      }
    },
    {
      "cell_type": "code",
      "source": [
        "tensor = torch.arange(4)\n",
        "np_arr = tensor.numpy()\n",
        "\n",
        "print(\"PyTorch tensor:\", tensor)\n",
        "print(\"Numpy array:\", np_arr)"
      ],
      "metadata": {
        "id": "sD0D4aBD6CYc",
        "colab": {
          "base_uri": "https://localhost:8080/"
        },
        "outputId": "1465a7bb-d63f-4a12-e157-c8a09e300529"
      },
      "execution_count": null,
      "outputs": [
        {
          "output_type": "stream",
          "name": "stdout",
          "text": [
            "PyTorch tensor: tensor([0, 1, 2, 3])\n",
            "Numpy array: [0 1 2 3]\n"
          ]
        }
      ]
    },
    {
      "cell_type": "markdown",
      "source": [
        "The conversion of tensors to numpy require the tensor to be on the CPU, and not the GPU (more on GPU support in a later section). In case you have a tensor on GPU, you need to call `.cpu()` on the tensor beforehand. Hence, you get a line like `np_arr = tensor.cpu().numpy()`."
      ],
      "metadata": {
        "id": "u6mugSmG6EbY"
      }
    },
    {
      "cell_type": "markdown",
      "source": [
        "## Operations\n",
        "\n",
        "Most operations that exist in numpy, also exist in PyTorch. A full list of operations can be found in the [PyTorch documentation](https://pytorch.org/docs/stable/tensors.html#), but we will review the most important ones here.\n",
        "\n",
        "The simplest operation is to add two tensors:"
      ],
      "metadata": {
        "id": "SnXURBoc6rF7"
      }
    },
    {
      "cell_type": "code",
      "source": [
        "x1 = torch.rand(2, 3)\n",
        "x2 = torch.rand(2, 3)\n",
        "y = x1 + x2\n",
        "\n",
        "print(\"X1\", x1)\n",
        "print(\"X2\", x2)\n",
        "print(\"Y\", y)"
      ],
      "metadata": {
        "id": "9WJU5nd06s8_",
        "colab": {
          "base_uri": "https://localhost:8080/"
        },
        "outputId": "8e7d45c3-ad2e-4f5c-ba2e-0fd99543ab15"
      },
      "execution_count": null,
      "outputs": [
        {
          "output_type": "stream",
          "name": "stdout",
          "text": [
            "X1 tensor([[0.1053, 0.2695, 0.3588],\n",
            "        [0.1994, 0.5472, 0.0062]])\n",
            "X2 tensor([[0.9516, 0.0753, 0.8860],\n",
            "        [0.5832, 0.3376, 0.8090]])\n",
            "Y tensor([[1.0569, 0.3448, 1.2448],\n",
            "        [0.7826, 0.8848, 0.8151]])\n"
          ]
        }
      ]
    },
    {
      "cell_type": "markdown",
      "source": [
        "Calling `x1 + x2` creates a new tensor containing the sum of the two inputs. However, we can also use in-place operations that are applied directly on the memory of a tensor. We therefore change the values of `x2` without the chance to re-accessing the values of `x2` before the operation. An example is shown below:"
      ],
      "metadata": {
        "id": "lneStW7N6vXv"
      }
    },
    {
      "cell_type": "code",
      "source": [
        "x1 = torch.rand(2, 3)\n",
        "x2 = torch.rand(2, 3)\n",
        "print(\"X1 (before)\", x1)\n",
        "print(\"X2 (before)\", x2)\n",
        "\n",
        "x2.add_(x1)\n",
        "print(\"X1 (after)\", x1)\n",
        "print(\"X2 (after)\", x2)"
      ],
      "metadata": {
        "id": "b1IhhW8-6v5a",
        "colab": {
          "base_uri": "https://localhost:8080/"
        },
        "outputId": "bcf45309-a15e-45da-bed6-36ad8e200554"
      },
      "execution_count": null,
      "outputs": [
        {
          "output_type": "stream",
          "name": "stdout",
          "text": [
            "X1 (before) tensor([[0.5779, 0.9040, 0.5547],\n",
            "        [0.3423, 0.6343, 0.3644]])\n",
            "X2 (before) tensor([[0.7104, 0.9464, 0.7890],\n",
            "        [0.2814, 0.7886, 0.5895]])\n",
            "X1 (after) tensor([[0.5779, 0.9040, 0.5547],\n",
            "        [0.3423, 0.6343, 0.3644]])\n",
            "X2 (after) tensor([[1.2884, 1.8504, 1.3437],\n",
            "        [0.6237, 1.4230, 0.9539]])\n"
          ]
        }
      ]
    },
    {
      "cell_type": "markdown",
      "source": [
        "In-place operations are usually marked with a underscore postfix (e.g. \"add_\" instead of \"add\").\n",
        "\n",
        "Another common operation aims at changing the shape of a tensor. A tensor of size (2,3) can be re-organized to any other shape with the same number of elements (e.g. a tensor of size (6), or (3,2), ...). In PyTorch, this operation is called `view`:"
      ],
      "metadata": {
        "id": "8DsRGAf66xPK"
      }
    },
    {
      "cell_type": "code",
      "source": [
        "x = x1.view(2, 3)\n",
        "print(\"X\", x)"
      ],
      "metadata": {
        "id": "UNSy13w36zlL",
        "colab": {
          "base_uri": "https://localhost:8080/"
        },
        "outputId": "b7f41172-593f-4012-f538-f14af41f397d"
      },
      "execution_count": null,
      "outputs": [
        {
          "output_type": "stream",
          "name": "stdout",
          "text": [
            "X tensor([[0.5779, 0.9040, 0.5547],\n",
            "        [0.3423, 0.6343, 0.3644]])\n"
          ]
        }
      ]
    },
    {
      "cell_type": "markdown",
      "source": [
        "Other commonly used operations include matrix multiplications, which are essential for neural networks. Quite often, we have an input vector $\\mathbf{x}$, which is transformed using a learned weight matrix $\\mathbf{W}$. There are multiple ways and functions to perform matrix multiplication, some of which we list below:\n",
        "\n",
        "* `torch.matmul`: Performs the matrix product over two tensors, where the specific behavior depends on the dimensions. If both inputs are matrices (2-dimensional tensors), it performs the standard matrix product. For higher dimensional inputs, the function supports broadcasting (for details see the [documentation](https://pytorch.org/docs/stable/generated/torch.matmul.html?highlight=matmul#torch.matmul)). Can also be written as `a @ b`, similar to numpy. \n",
        "* `torch.mm`: Performs the matrix product over two matrices, but doesn't support broadcasting (see [documentation](https://pytorch.org/docs/stable/generated/torch.mm.html?highlight=torch%20mm#torch.mm))\n",
        "* `torch.bmm`: Performs the matrix product with a support batch dimension. If the first tensor $T$ is of shape ($b\\times n\\times m$), and the second tensor $R$ ($b\\times m\\times p$), the output $O$ is of shape ($b\\times n\\times p$), and has been calculated by performing $b$ matrix multiplications of the submatrices of $T$ and $R$: $O_i = T_i @ R_i$\n",
        "* `torch.einsum`: Performs matrix multiplications and more (i.e. sums of products) using the Einstein summation convention. Explanation of the Einstein sum can be found in assignment 1.\n",
        "\n",
        "Usually, we use `torch.matmul` or `torch.bmm`. We can try a matrix multiplication with `torch.matmul` below."
      ],
      "metadata": {
        "id": "Ap1COXF366up"
      }
    },
    {
      "cell_type": "markdown",
      "source": [
        "## Indexing\n",
        "\n",
        "We often have the situation where we need to select a part of a tensor. Indexing works just like in numpy, so let's try it:"
      ],
      "metadata": {
        "id": "l1AByjJr7DAr"
      }
    },
    {
      "cell_type": "code",
      "source": [
        "x = torch.arange(12).view(3, 4)\n",
        "print(\"X\", x)"
      ],
      "metadata": {
        "id": "opxMGzd76R_j",
        "colab": {
          "base_uri": "https://localhost:8080/"
        },
        "outputId": "fa794391-6718-4299-8aab-9f8b935c6ca1"
      },
      "execution_count": null,
      "outputs": [
        {
          "output_type": "stream",
          "name": "stdout",
          "text": [
            "X tensor([[ 0,  1,  2,  3],\n",
            "        [ 4,  5,  6,  7],\n",
            "        [ 8,  9, 10, 11]])\n"
          ]
        }
      ]
    },
    {
      "cell_type": "code",
      "source": [
        "print(x[:, 1])   # Second column"
      ],
      "metadata": {
        "id": "B6fMmONV6Sfu",
        "colab": {
          "base_uri": "https://localhost:8080/"
        },
        "outputId": "9011ffb2-c510-48be-992a-cd7a1bf26da6"
      },
      "execution_count": null,
      "outputs": [
        {
          "output_type": "stream",
          "name": "stdout",
          "text": [
            "tensor([1, 5, 9])\n"
          ]
        }
      ]
    },
    {
      "cell_type": "code",
      "source": [
        "print(x[0])      # First row"
      ],
      "metadata": {
        "id": "Km1uW31D7Hxu",
        "colab": {
          "base_uri": "https://localhost:8080/"
        },
        "outputId": "90a83037-a160-4b01-f5b4-df82a23beef1"
      },
      "execution_count": null,
      "outputs": [
        {
          "output_type": "stream",
          "name": "stdout",
          "text": [
            "tensor([0, 1, 2, 3])\n"
          ]
        }
      ]
    },
    {
      "cell_type": "code",
      "source": [
        "print(x[:2, -1]) # First two rows, last column"
      ],
      "metadata": {
        "id": "8IlM7GNz7I_h",
        "colab": {
          "base_uri": "https://localhost:8080/"
        },
        "outputId": "623da980-0d77-43d9-b3ca-1c8a84e2986a"
      },
      "execution_count": null,
      "outputs": [
        {
          "output_type": "stream",
          "name": "stdout",
          "text": [
            "tensor([3, 7])\n"
          ]
        }
      ]
    },
    {
      "cell_type": "code",
      "source": [
        "print(x[1:3, :]) # Middle two rows"
      ],
      "metadata": {
        "id": "TpBoQFWS7KQ5",
        "colab": {
          "base_uri": "https://localhost:8080/"
        },
        "outputId": "47fa5c08-89cf-4526-9431-5d772dd5da6f"
      },
      "execution_count": null,
      "outputs": [
        {
          "output_type": "stream",
          "name": "stdout",
          "text": [
            "tensor([[ 4,  5,  6,  7],\n",
            "        [ 8,  9, 10, 11]])\n"
          ]
        }
      ]
    },
    {
      "cell_type": "markdown",
      "source": [
        "# PyTorch Distributions\n",
        "\n",
        "Source: https://pytorch.org/docs/stable/distributions.html\n",
        "\n",
        "The distributions package contains parameterizable probability distributions and sampling functions. This allows the construction of stochastic computation graphs and stochastic gradient estimators for optimization. This package generally follows the design of the TensorFlow Distributions package.\n",
        "\n",
        "During this course we will require that the various probability distributions\n",
        "that will stand for our models have the following properties (generally satisfied by the distributions available in Pyro and PyTorch Distributions):\n",
        "\n",
        " - we can efficiently sample from each \n",
        "\n",
        " - we can efficiently compute the pointwise probability density\n",
        "\n",
        " - is differentiable w.r.t. the parameters \n",
        "\n",
        "During the course we will use a lot of probabilistic models, so it is extremely useful to know some tools to make our job easier. \n",
        "\n",
        "Note that during next Lab we will learn about Pyro (source: http://pyro.ai/examples/intro_long.html) which builds upon torch distributions. "
      ],
      "metadata": {
        "id": "HI0xe3P-7QfC"
      }
    },
    {
      "cell_type": "markdown",
      "source": [
        "## Exercise 1 Multivariate Normal\n",
        "\n",
        "a) import `torch` and print the version you are using\n",
        "\n",
        "b) define a seed\n",
        "\n",
        "c) define a multivariate normal distribution with $\\mu = [1, 2]$ and $\\Sigma = \\begin{bmatrix} 1 & 0 \\\\ 0 & 2\\end{bmatrix}$\n",
        "\n",
        "d) sample $n = 100$ i.i.d. observations from it\n",
        "\n",
        "e) Compute the probability and log-probability of the sample obtained in d) under the distribution obtained in c). \n",
        "\n",
        "f) Explain **why do we want to work with log-probs?** How is e) connected to the likelihood? What is the difference?"
      ],
      "metadata": {
        "id": "s9d8bCMD8tH4"
      }
    },
    {
      "cell_type": "code",
      "source": [
        "\n",
        "# a\n",
        "\n",
        "print(torch.__version__)\n",
        "\n",
        "# b\n",
        "\n",
        "def set_seed(seed):\n",
        "    random.seed(seed)\n",
        "    np.random.seed(seed)\n",
        "    torch.manual_seed(seed)\n",
        "    print(f\"Seed set to {SEED}\")\n",
        "\n",
        "SEED = 42\n",
        "set_seed(SEED)\n",
        "\n",
        "# c\n",
        "\n",
        "\n",
        "N = 100\n",
        "\n",
        "mu = torch.Tensor([1, 2])\n",
        "sigma = torch.Tensor([[1, 0], [0, 2]])\n",
        "\n",
        "normal_dist = MultivariateNormal(mu, sigma)\n",
        "\n",
        "sample_shape = torch.Size([N])\n",
        "x = normal_dist.sample(sample_shape)\n",
        "\n",
        "# d\n",
        "\n",
        "log_prob_normal = normal_dist.log_prob(x).sum()\n",
        "print(f\"The log of the pdf evaluated at the sampled batch is equal to {log_prob_normal}.\")\n",
        "\n",
        "\n",
        "# e\n",
        "\n",
        "prob_normal = normal_dist.log_prob(x).sum().exp()\n",
        "print(f\"The precision is not enough and the value of the pdf evaluated at the sampled batch is set to {prob_normal}.\")\n",
        "\n",
        "# Variable log_prob_normal is equal to the log-likelihood of the sampled batch given a Normal distribution with $\\mu$ and $\\Sigma$"
      ],
      "metadata": {
        "id": "SBN6-iAl-7sP",
        "colab": {
          "base_uri": "https://localhost:8080/"
        },
        "outputId": "a557589c-463d-4730-8d29-532813d429a3"
      },
      "execution_count": 2,
      "outputs": [
        {
          "output_type": "stream",
          "name": "stdout",
          "text": [
            "1.12.1+cu113\n",
            "Seed set to 42\n",
            "The log of the pdf evaluated at the sampled batch is equal to -314.69268798828125.\n",
            "The precision is not enough and the value of the pdf evaluated at the sampled batch is set to 0.0.\n"
          ]
        }
      ]
    },
    {
      "cell_type": "markdown",
      "source": [
        "Generally, shapes of distributions may be confusing. A perfect guide to make your life easier: https://bochang.me/blog/posts/pytorch-distributions/\n",
        "\n",
        "Additionally: https://stats.stackexchange.com/questions/2641/what-is-the-difference-between-likelihood-and-probability"
      ],
      "metadata": {
        "id": "wXft6LjWxJ4g"
      }
    },
    {
      "cell_type": "markdown",
      "source": [
        "# Likelihoods\n",
        "\n",
        "Likelihood function is a function of parameters $\\theta \\in \\Theta$ given by $p(D \\mid \\theta)$. \n",
        "\n",
        "> Intuition: The likelihood expresses how probable the observed data set is for different settings of the parameter $\\theta$. "
      ],
      "metadata": {
        "id": "-atuH-ctEtDS"
      }
    },
    {
      "cell_type": "markdown",
      "source": [
        "\n",
        "## Exercise 2 Likelihood of Bernoulli\n",
        "\n",
        "> Give an analytical formula for the likelihood function of Bernoulli distribution. Calculate the MLE. "
      ],
      "metadata": {
        "id": "-iVEpFdUpROV"
      }
    },
    {
      "cell_type": "markdown",
      "source": [
        "## Exercise 3: Likelihood of Coin Tossing\n",
        "\n",
        "a) Set $n$ to 4\n",
        "\n",
        "b) Simulate $n$ unfair coin tosses, with a probability of heads equal to $\\theta = 0.6$\n",
        "\n",
        "c) Define a function that calculates the likelihood of the generated data using the analytical formula given during the lectures\n",
        "\n",
        "d) Define a function that calculates the likelihood of the generated data using the `torch.distributions`. Verify that the outcomes are approximately the same. \n",
        "\n",
        "e) Plot the likelihood function for 100 different, equally spaced values of $\\theta$. Hint: use `torch.arrange()` function.\n",
        "\n",
        "f) Mark the maximum likelihood estimate on the plot\n",
        "\n",
        "g) Repeat the experiment 100 times, is the MLE consistent across iterations? How do we call this phenomenon?\n",
        "\n",
        "h) Repeat all the above steps for $N = 1000$. What happened? What is the minimum and maximum value for MLE across iterations?\n"
      ],
      "metadata": {
        "id": "RTowl6VSAAZB"
      }
    },
    {
      "cell_type": "code",
      "source": [
        "### Auxiliary Functions\n",
        "\n",
        "def get_n_coin_tosses(n = 1, head_prob = 0.5):\n",
        "  dist = torch.distributions.Bernoulli(probs=head_prob).expand(\n",
        "      batch_shape = torch.Size([n]))\n",
        "  return dist.sample()\n",
        "\n",
        "\n",
        "def get_bernoulli_likelihood_analytical(data, head_prob):\n",
        "  nb_successes = data.sum()\n",
        "  nb_failures = data.shape[0] - data.sum()\n",
        "  likelihood = (head_prob ** nb_successes) * (1 - head_prob) ** nb_failures\n",
        "  return likelihood\n",
        "\n",
        "\n",
        "def get_bernoulli_log_likelihood(data, head_prob):\n",
        "  dist = torch.distributions.Bernoulli(probs=head_prob).expand(\n",
        "      batch_shape = torch.Size([data.shape[0]])\n",
        "      )  \n",
        "  return dist.log_prob(data).sum()\n",
        "\n",
        "\n",
        "def get_bernoulli_likelihood(data, head_prob):\n",
        "  return get_bernoulli_log_likelihood(data, head_prob).exp()\n",
        "\n",
        "\n",
        "def get_mle(data):\n",
        "  return data.sum() / data.shape[0]\n",
        "\n",
        "# Solution\n",
        "\n",
        "# a, b, c, d\n",
        "\n",
        "N = 4\n",
        "THETA = 0.6\n",
        "\n",
        "biased_coin_tosses = get_n_coin_tosses(n = N, head_prob = THETA)\n",
        "theta_values = torch.arange(0, 1, 0.01)\n",
        "likelihoods_analytical = torch.stack(\n",
        "    [get_bernoulli_likelihood_analytical(biased_coin_tosses, theta) for _, theta in enumerate(theta_values)]\n",
        ")\n",
        "\n",
        "likelihoods = torch.stack(\n",
        "    [get_bernoulli_likelihood(biased_coin_tosses, theta) for _, theta in enumerate(theta_values)]\n",
        ")\n",
        "\n",
        "\n",
        "if not torch.equal(likelihoods_analytical, likelihoods):\n",
        "  differences = torch.abs(likelihoods_analytical - likelihoods)\n",
        "  print(f\"Max difference is equal to {differences.max()}.\")\n",
        "\n",
        "# You may use a variant of torch.equal()\n",
        "assert torch.allclose(likelihoods, likelihoods_analytical)\n",
        "\n",
        "# e, f\n",
        "\n",
        "ax = sns.lineplot(x=theta_values, y=likelihoods)\n",
        "ax.set(xlabel=\"likelihood parameter\", ylabel=\"likelihood\", title=f\"points\")\n",
        "plt.axvline(get_mle(biased_coin_tosses))\n",
        "\n",
        "plt.show()\n",
        "\n",
        "# g\n",
        "n_iter = 100\n",
        "mle_values = torch.zeros(n_iter)\n",
        "for iter in range(n_iter):\n",
        "  biased_coin_tosses = get_n_coin_tosses(n = N, head_prob = THETA)\n",
        "  mle_values[iter] = get_mle(biased_coin_tosses)\n",
        "print(\"Minimum value of MLE: \", mle_values.min())\n",
        "print(\"Maximum value of MLE: \", mle_values.max())\n"
      ],
      "metadata": {
        "colab": {
          "base_uri": "https://localhost:8080/",
          "height": 347
        },
        "id": "o2yhyhmF8IQ-",
        "outputId": "1e16beb3-2893-496c-db25-6ea8303ecaee"
      },
      "execution_count": 8,
      "outputs": [
        {
          "output_type": "stream",
          "name": "stdout",
          "text": [
            "Max difference is equal to 1.862645149230957e-08.\n"
          ]
        },
        {
          "output_type": "display_data",
          "data": {
            "text/plain": [
              "<Figure size 432x288 with 1 Axes>"
            ],
            "image/png": "[encoded data removed]"
          },
          "metadata": {
            "needs_background": "light"
          }
        },
        {
          "output_type": "stream",
          "name": "stdout",
          "text": [
            "Minimum value of MLE:  tensor(0.)\n",
            "Maximum value of MLE:  tensor(1.)\n"
          ]
        }
      ]
    },
    {
      "cell_type": "markdown",
      "source": [
        "## Exercise 4: Fighting overfitting\n",
        "\n",
        "Use hyperparameters from Exercise 3\n",
        "\n",
        "a) Add a plot of the log of Beta distribution (prior for the binomial distribution) with parameters α = β = 3. What does this prior imply?\n",
        "\n",
        "b) Add a plot of the empirically calculated log posterior distribution, computed as likelihood * prior (ignoring the normalization by the probability of the data)\n",
        "\n",
        "c) Add a plot of the theoretical log posterior (reminder: Beta is conjugate to Binomial)\n",
        "\n",
        "d) Add a vertical line at the value maximizing the posterior and a legend"
      ],
      "metadata": {
        "id": "a-y_gVgip7aO"
      }
    },
    {
      "cell_type": "code",
      "source": [
        "\n",
        "ALPHA = 3\n",
        "BETA = 3\n",
        "\n",
        "def get_posterior(data, head_prob):\n",
        "  prior_dist = Beta(3, 3)\n",
        "  likelihood = get_bernoulli_log_likelihood(data, head_prob)\n",
        "  prior_prob = prior_dist.log_prob(head_prob)\n",
        "  return likelihood + prior_prob\n",
        "\n",
        "def get_posterior_analytical(data, head_prob):\n",
        "  k = int(data.sum())\n",
        "  n = int(data.shape[0])\n",
        "  distribution = Beta(ALPHA + k, BETA + n - k)\n",
        "  return distribution.log_prob(head_prob).sum()\n",
        "\n",
        "\n",
        "theta_values = torch.arange(0, 1, 0.01)\n",
        "biased_coin_tosses = get_n_coin_tosses(n = N, head_prob = THETA)\n",
        "\n",
        "prior_log_probs = torch.stack([Beta(ALPHA, BETA).log_prob(theta * torch.ones(biased_coin_tosses.size())).sum() for theta in theta_values])\n",
        "\n",
        "posteriors = torch.stack(\n",
        "    [get_posterior(biased_coin_tosses, theta) for _, theta in enumerate(theta_values)]\n",
        ")\n",
        "posteriors_analytical = torch.stack(\n",
        "    [get_posterior_analytical(biased_coin_tosses, theta) for _, theta in enumerate(theta_values)]\n",
        ")\n",
        "\n",
        "ax = sns.lineplot(x=theta_values, y=prior_log_probs, color='r')\n",
        "ax = sns.lineplot(x=theta_values, y=posteriors, color='b')\n",
        "ax = sns.lineplot(x=theta_values, y=posteriors_analytical, color='y')\n",
        "ax.set(xlabel=\"Probability of heads\", ylabel=\"log-prob\", title=f\"points\")\n",
        "\n",
        "#plt.axvline(get_mle(biased_coin_tosses))\n",
        "plt.axvline(theta_values[posteriors.argmax()])\n",
        "\n",
        "plt.show()\n",
        "\n",
        "\n"
      ],
      "metadata": {
        "id": "mDG37qTh_Hf2",
        "colab": {
          "base_uri": "https://localhost:8080/",
          "height": 295
        },
        "outputId": "61811364-aad3-433e-822a-bf15cf591ba1"
      },
      "execution_count": 12,
      "outputs": [
        {
          "output_type": "display_data",
          "data": {
            "text/plain": [
              "<Figure size 432x288 with 1 Axes>"
            ],
            "image/png": "[encoded data removed]"
          },
          "metadata": {
            "needs_background": "light"
          }
        }
      ]
    },
    {
      "cell_type": "markdown",
      "source": [
        "# Exercise 5 MLE and MAP\n",
        "\n",
        "Compute the difference between MLE and MAP as a function of the number of coin tosses $n$?\n",
        "\n",
        "What is happening? Why? Justify that the prior is often just a regularizer.\n",
        "\n"
      ],
      "metadata": {
        "id": "gMvKY50FeALQ"
      }
    },
    {
      "cell_type": "code",
      "source": [
        "def get_abs_dist(estimator, other):\n",
        "  return torch.abs(estimator - other)\n",
        "\n",
        "def get_map(data):\n",
        "  values = torch.arange(0, 1, 0.01)\n",
        "  posteriors_analytical = torch.stack(\n",
        "    [get_posterior_analytical(data, theta) for _, theta in enumerate(values)]\n",
        "  )\n",
        "  return values[posteriors_analytical.argmax()]\n",
        "  \n",
        "\n",
        "mles = []\n",
        "maps = []\n",
        "dists = []\n",
        "for n in range(0, 100, 1):\n",
        "    data = get_n_coin_tosses(n = n, head_prob = THETA)\n",
        "    mle = get_mle(data)\n",
        "    map = get_map(data)\n",
        "    mles.append(mle)\n",
        "    maps.append(map)\n",
        "    dists.append(get_abs_dist(mle, map))"
      ],
      "metadata": {
        "id": "5z-uHq-oSFRY"
      },
      "execution_count": 21,
      "outputs": []
    },
    {
      "cell_type": "code",
      "source": [
        "plt.plot(torch.stack(mles))\n",
        "plt.plot(torch.stack(maps))"
      ],
      "metadata": {
        "colab": {
          "base_uri": "https://localhost:8080/",
          "height": 282
        },
        "id": "URLAVe2mqJFk",
        "outputId": "7f902114-0485-442e-f61a-30fcd83250ba"
      },
      "execution_count": 22,
      "outputs": [
        {
          "output_type": "execute_result",
          "data": {
            "text/plain": [
              "[<matplotlib.lines.Line2D at 0x7feccfb586d0>]"
            ]
          },
          "metadata": {},
          "execution_count": 22
        },
        {
          "output_type": "display_data",
          "data": {
            "text/plain": [
              "<Figure size 432x288 with 1 Axes>"
            ],
            "image/png": "[encoded data removed]"
          },
          "metadata": {
            "needs_background": "light"
          }
        }
      ]
    },
    {
      "cell_type": "code",
      "source": [
        "plt.plot(dists)"
      ],
      "metadata": {
        "colab": {
          "base_uri": "https://localhost:8080/",
          "height": 282
        },
        "id": "VNWIbkdFtrUN",
        "outputId": "e990c65c-d360-4805-d0d3-ab5eeb4c1153"
      },
      "execution_count": 23,
      "outputs": [
        {
          "output_type": "execute_result",
          "data": {
            "text/plain": [
              "[<matplotlib.lines.Line2D at 0x7feccfe4d250>]"
            ]
          },
          "metadata": {},
          "execution_count": 23
        },
        {
          "output_type": "display_data",
          "data": {
            "text/plain": [
              "<Figure size 432x288 with 1 Axes>"
            ],
            "image/png": "[encoded data removed]"
          },
          "metadata": {
            "needs_background": "light"
          }
        }
      ]
    },
    {
      "cell_type": "markdown",
      "source": [
        "# Motivation for using Pyro\n",
        "\n",
        "Next week we will start using Pyro. A good introductory tutorial is provided [here](https://pyro.ai/examples/intro_long.html#Models-in-Pyro). Please cover the section Models in Pyro. \n",
        "\n",
        "Often, models we work with don't have an analytical form of the likelihood we want to maximize, no problem!"
      ],
      "metadata": {
        "id": "vxTelXtqepcv"
      }
    },
    {
      "cell_type": "code",
      "source": [
        "# !pip3 install pyro-ppl \n",
        "import pyro\n",
        "from pyro.distributions import constraints\n",
        "\n",
        "def model_mle(data):\n",
        "    f = pyro.param(\"head_probs\", torch.tensor(0.5),\n",
        "                   constraint=constraints.unit_interval)\n",
        "    with pyro.plate(\"data\", data.size(0)):\n",
        "        pyro.sample(\"obs\", pyro.distributions.Bernoulli(f), obs=data)"
      ],
      "metadata": {
        "id": "U1w165gVdx9F"
      },
      "execution_count": null,
      "outputs": []
    },
    {
      "cell_type": "code",
      "source": [
        "pyro.render_model(model_mle, model_args=(biased_coin_tosses,), render_distributions=True, render_params=True)"
      ],
      "metadata": {
        "colab": {
          "base_uri": "https://localhost:8080/",
          "height": 232
        },
        "id": "DfD6_TjSd1he",
        "outputId": "d59d2432-79dc-4ee9-9b64-472a82658fd2"
      },
      "execution_count": null,
      "outputs": [
        {
          "output_type": "execute_result",
          "data": {
            "text/plain": [
              "<graphviz.dot.Digraph at 0x7ff24b5d1250>"
            ],
            "image/svg+xml": "<?xml version=\"1.0\" encoding=\"UTF-8\" standalone=\"no\"?>\n<!DOCTYPE svg PUBLIC \"-//W3C//DTD SVG 1.1//EN\"\n \"http://www.w3.org/Graphics/SVG/1.1/DTD/svg11.dtd\">\n<!-- Generated by graphviz version 2.40.1 (20161225.0304)\n -->\n<!-- Title: %3 Pages: 1 -->\n<svg width=\"467pt\" height=\"157pt\"\n viewBox=\"0.00 0.00 467.00 157.00\" xmlns=\"http://www.w3.org/2000/svg\" xmlns:xlink=\"http://www.w3.org/1999/xlink\">\n<g id=\"graph0\" class=\"graph\" transform=\"scale(1 1) rotate(0) translate(4 153)\">\n<title>%3</title>\n<polygon fill=\"#ffffff\" stroke=\"transparent\" points=\"-4,4 -4,-153 463,-153 463,4 -4,4\"/>\n<g id=\"clust1\" class=\"cluster\">\n<title>cluster_data</title>\n<polygon fill=\"none\" stroke=\"#000000\" points=\"8,-8 8,-83 78,-83 78,-8 8,-8\"/>\n<text text-anchor=\"middle\" x=\"58\" y=\"-15.8\" font-family=\"Times,serif\" font-size=\"14.00\" fill=\"#000000\">data</text>\n</g>\n<!-- head_probs -->\n<g id=\"node1\" class=\"node\">\n<title>head_probs</title>\n<polygon fill=\"#ffffff\" stroke=\"transparent\" points=\"76.5,-137.5 9.5,-137.5 9.5,-122.5 76.5,-122.5 76.5,-137.5\"/>\n<text text-anchor=\"middle\" x=\"43\" y=\"-126.3\" font-family=\"Times,serif\" font-size=\"14.00\" fill=\"#000000\">head_probs</text>\n</g>\n<!-- obs -->\n<g id=\"node2\" class=\"node\">\n<title>obs</title>\n<ellipse fill=\"#c0c0c0\" stroke=\"#000000\" cx=\"43\" cy=\"-57\" rx=\"27\" ry=\"18\"/>\n<text text-anchor=\"middle\" x=\"43\" y=\"-53.3\" font-family=\"Times,serif\" font-size=\"14.00\" fill=\"#000000\">obs</text>\n</g>\n<!-- head_probs&#45;&gt;obs -->\n<g id=\"edge1\" class=\"edge\">\n<title>head_probs&#45;&gt;obs</title>\n<path fill=\"none\" stroke=\"#000000\" d=\"M43,-122.4627C43,-113.7244 43,-98.8051 43,-85.4145\"/>\n<polygon fill=\"#000000\" stroke=\"#000000\" points=\"46.5001,-85.1504 43,-75.1505 39.5001,-85.1505 46.5001,-85.1504\"/>\n</g>\n<!-- distribution_description_node -->\n<g id=\"node3\" class=\"node\">\n<title>distribution_description_node</title>\n<text text-anchor=\"start\" x=\"103\" y=\"-133.8\" font-family=\"Times,serif\" font-size=\"14.00\" fill=\"#000000\">obs ~ Bernoulli</text>\n<text text-anchor=\"start\" x=\"103\" y=\"-118.8\" font-family=\"Times,serif\" font-size=\"14.00\" fill=\"#000000\">head_probs : Interval(lower_bound=0.0, upper_bound=1.0)</text>\n</g>\n</g>\n</svg>\n"
          },
          "metadata": {},
          "execution_count": 69
        }
      ]
    },
    {
      "cell_type": "code",
      "source": [
        "def train(model, guide, data, lr=0.005, n_steps=201):\n",
        "    pyro.clear_param_store()\n",
        "    adam_params = {\"lr\": lr}\n",
        "    adam = pyro.optim.Adam(adam_params)\n",
        "    svi = SVI(model, guide, adam, loss=Trace_ELBO())\n",
        "\n",
        "    for step in range(n_steps):\n",
        "        loss = svi.step(data)\n",
        "        if step % 50 == 0:\n",
        "            print('[iter {}]  loss: {:.4f}'.format(step, loss))\n",
        "\n",
        "\n",
        "def guide_mle(data):\n",
        "    pass\n",
        "\n"
      ],
      "metadata": {
        "id": "uEIsOoArbgfc"
      },
      "execution_count": null,
      "outputs": []
    },
    {
      "cell_type": "code",
      "source": [
        "# For biased coin toss\n",
        "train(model_mle, guide_mle, biased_coin_tosses)\n",
        "\n",
        "mle_estimate = pyro.param(\"head_probs\").item()\n",
        "print(\"Our MLE estimate of the probability of getting a head is {:.3f}\".format(mle_estimate))"
      ],
      "metadata": {
        "colab": {
          "base_uri": "https://localhost:8080/"
        },
        "id": "9x411Te8uQ59",
        "outputId": "40904d71-7a53-4375-801c-2a174e00b163"
      },
      "execution_count": null,
      "outputs": [
        {
          "output_type": "stream",
          "name": "stdout",
          "text": [
            "[iter 0]  loss: 693.1473\n",
            "[iter 50]  loss: 676.2067\n",
            "[iter 100]  loss: 672.1903\n",
            "[iter 150]  loss: 671.7908\n",
            "[iter 200]  loss: 671.7766\n",
            "Our MLE estimate of the latent fairness is 0.603\n"
          ]
        }
      ]
    },
    {
      "cell_type": "code",
      "source": [
        "#For fair coin toss\n",
        "train(model_mle, guide_mle, fair_coin_tosses)\n",
        "\n",
        "mle_estimate = pyro.param(\"head_probs\").item()\n",
        "print(\"Our MLE estimate of the probability of getting a head is {:.3f}\".format(mle_estimate))"
      ],
      "metadata": {
        "colab": {
          "base_uri": "https://localhost:8080/"
        },
        "id": "hJMZ9cRzuJRO",
        "outputId": "5c8ea37c-511d-4d1c-9b87-dd15e78c33f5"
      },
      "execution_count": null,
      "outputs": [
        {
          "output_type": "stream",
          "name": "stdout",
          "text": [
            "[iter 0]  loss: 693.1473\n",
            "[iter 50]  loss: 691.2353\n",
            "[iter 100]  loss: 691.2239\n",
            "[iter 150]  loss: 691.2240\n",
            "[iter 200]  loss: 691.2241\n",
            "Our MLE estimate of the latent fairness is 0.531\n"
          ]
        }
      ]
    }
  ]
}