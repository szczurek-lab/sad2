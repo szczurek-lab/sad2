{
 "cells": [
  {
   "cell_type": "markdown",
   "id": "5387d3de-02d5-4774-8db9-0be0fb3a6a68",
   "metadata": {
    "pycharm": {
     "name": "#%% md\n"
    }
   },
   "source": [
    "# Lab 5: Implementation of the sum product algorithm\n",
    "Today, we are working with the end goal of implementing a sum-product algorithm for bipartite trees. We provide you with some helper classes and functions, but the final implementation will be your task."
   ]
  },
  {
   "cell_type": "code",
   "execution_count": 1,
   "id": "020bfffc-8e60-40ef-ae33-3a6e4ba0de32",
   "metadata": {
    "pycharm": {
     "name": "#%%\n"
    }
   },
   "outputs": [],
   "source": [
    "import _io\n",
    "import os\n",
    "import random\n",
    "import numpy as np\n",
    "from typing import Optional, List, Set, Tuple, Dict\n",
    "from numpy.typing import NDArray"
   ]
  },
  {
   "cell_type": "markdown",
   "id": "60dc260c-3d23-4ec5-a7c0-de08e1e17bee",
   "metadata": {
    "pycharm": {
     "name": "#%% md\n"
    }
   },
   "source": [
    "## Helper classes & functions"
   ]
  },
  {
   "cell_type": "code",
   "execution_count": 2,
   "id": "9717ecb3-1699-4b47-9aa4-698cdece2a71",
   "metadata": {
    "pycharm": {
     "name": "#%%\n"
    }
   },
   "outputs": [],
   "source": [
    "class Node:\n",
    "    def __init__(\n",
    "        self, \n",
    "        label: int, \n",
    "        branch_length: float = 1.0, \n",
    "        name: str = None, \n",
    "        parent: 'Node' = None,\n",
    "        children: List['Node'] = None\n",
    "    ):\n",
    "        self._label: int = label\n",
    "        self._branch_length: float = branch_length\n",
    "        self._name: str = name\n",
    "        self._parent: 'Node' = parent\n",
    "        self._children: List['Node'] = []\n",
    "        if children is not None:\n",
    "            self._children.extend(children)\n",
    "        self._states_num: int = 0\n",
    "        \"\"\"\n",
    "        TO BE COMPLETED.\n",
    "        \n",
    "        Add attributes of `Node` to store the forward and backward messages.\n",
    "        \"\"\"\n",
    "        \n",
    "        ### SOLUTION ###\n",
    "        \"\"\"\n",
    "        Only the messages passed from a factor node to a random variable node are kept.\n",
    "        \"\"\"\n",
    "        \n",
    "        \"\"\"\n",
    "        (#states)-by-(#children) matrix.\n",
    "        Representing the messages passing from the children nodes in the forward round.\n",
    "        For leaf nodes, `None`.\n",
    "        \"\"\"\n",
    "        self._messages_children: NDArray = None\n",
    "        \n",
    "        \"\"\"\n",
    "        (#states)-by-1 matrix.\n",
    "        Representing the messages passing from the parent node in the backward round.\n",
    "        For root node, its given discrete probability distribution.\n",
    "        \"\"\"\n",
    "        self._messages_parent: NDArray = None\n",
    "\n",
    "    def __eq__(self, o: object) -> bool:\n",
    "        if o is None: return False\n",
    "        if self._label != o._label: return False\n",
    "        return True if self._name == o._name else False\n",
    "\n",
    "    def __ne__(self, o: object) -> bool:\n",
    "        return not self.__eq__(o)\n",
    "    \n",
    "    def __lt__(self, o: object) -> bool:\n",
    "        if self._label < o._label:\n",
    "            return True\n",
    "        elif self._label > o._label:\n",
    "            return False\n",
    "        else:\n",
    "            return self._name < o._name\n",
    "        \n",
    "    def __le__(self, o: object) -> bool:\n",
    "        if self._label < o._label:\n",
    "            return True\n",
    "        elif self._label > o._label:\n",
    "            return False\n",
    "        else:\n",
    "            return self._name <= o._name\n",
    "    \n",
    "    def __gt__(self, o: object) -> bool:\n",
    "        if self._label > o._label:\n",
    "            return True\n",
    "        elif self._label < o._label:\n",
    "            return False\n",
    "        else:\n",
    "            return self._name > o._name\n",
    "        \n",
    "    def __ge__(self, o: object) -> bool:\n",
    "        if self._label > o._label:\n",
    "            return True\n",
    "        elif self._label < o._label:\n",
    "            return False\n",
    "        else:\n",
    "            return self._name >= o._name\n",
    "    \n",
    "    def __hash__(self) -> int:\n",
    "        return hash((self._label, self._name))\n",
    "    \n",
    "    def set_label(self, label: int) -> None:\n",
    "        self._label = label\n",
    "\n",
    "    def get_label(self) -> int:\n",
    "        return self._label\n",
    "\n",
    "    def set_parent(self, parent: 'Node') -> None:\n",
    "        if parent is None: return None\n",
    "        self._parent = parent\n",
    "\n",
    "    def get_parent(self) -> 'Node':\n",
    "        return self._parent\n",
    "\n",
    "    def get_child(self, child_index: int) -> Optional['Node']:\n",
    "        if child_index + 1 > len(self._children):\n",
    "            return None\n",
    "        return self._children[child_index]\n",
    "    \n",
    "    def get_children(self) -> List['Node']:\n",
    "        return self._children\n",
    "\n",
    "    def get_branch_length(self) -> float:\n",
    "        return self._branch_length\n",
    "\n",
    "    def set_node_name(self, name: str) -> None:\n",
    "        self._name = name\n",
    "\n",
    "    def get_node_name(self) -> str:\n",
    "        return self._name\n",
    "\n",
    "    def add_child(self, child: 'Node') -> None:\n",
    "        if child is None: return None\n",
    "        if child not in self._children:\n",
    "            child.set_parent(self)\n",
    "            self._children.append(child)\n",
    "    \n",
    "    def add_children(self, children: List['Node']) -> None:\n",
    "        if children is None or len(children) == 0: return None\n",
    "        for child in children:\n",
    "            self.add_child(child)\n",
    "\n",
    "    def is_leaf(self) -> bool:\n",
    "        return len(self._children) == 0\n",
    "\n",
    "    def is_root(self) -> bool:\n",
    "        if self._parent is None:\n",
    "            self._branch_length = 0.0\n",
    "            return True\n",
    "        return False\n",
    "\n",
    "    def write_in_nexus(self, fh: _io.TextIOWrapper) -> None:\n",
    "        if self.is_leaf():\n",
    "            fh.write('{:d}:{:f}'.format(self._label, self._branch_length))\n",
    "        else:\n",
    "            fh.write('(')\n",
    "            for index in range(len(self._children)):\n",
    "                self._children[index].write_in_nexus(fh)\n",
    "                if index < len(self._children) - 1:\n",
    "                    fh.write(',')\n",
    "            fh.write('):{0:f}'.format(self._branch_length))\n",
    "    \n",
    "    ### SOLUTION ###\n",
    "    \n",
    "    def initialize_messages_str(self, states_num: int, freq: NDArray) -> None:\n",
    "        if freq.T.shape != (states_num, 1):\n",
    "            raise ValueError('Error! Illegal shape of argument freq.')\n",
    "        \n",
    "        self._states_num = states_num\n",
    "        \n",
    "        if self.is_root():\n",
    "            self._messages_parent = np.array(freq.T)\n",
    "        else:\n",
    "            self._messages_parent = np.zeros((states_num, 1))\n",
    "        \n",
    "        if self.is_leaf(): return None\n",
    "        self._messages_children = np.zeros((states_num, len(self._children)))\n",
    "        \n",
    "    def gather_messages(self, query_node: 'Node' = None) -> NDArray:\n",
    "        \"\"\"\n",
    "        Gather messages passing to the node from the neighboring factor nodes of the current node.\n",
    "        If `query_node` is not None, the messages passed by it will be excluded from the results.\n",
    "        \n",
    "        Return: #states-by-1 matrix\n",
    "        \"\"\"\n",
    "        ret: NDArray = np.ones((self._states_num, 1))\n",
    "        \n",
    "        if not self.is_leaf():\n",
    "            for i in range(len(self._children)):\n",
    "                if query_node != self._children[i]:\n",
    "                    ret = self._messages_children[:, [i]] * ret\n",
    "        \n",
    "        if query_node != self._parent or (query_node is None and self._parent is None):\n",
    "            ret = self._messages_parent * ret\n",
    "        \n",
    "        return ret\n",
    "    \n",
    "    def compute_messages(self, from_node: 'Node', trans_prob_mtx: NDArray) -> None:\n",
    "        \"\"\"\n",
    "        Compute the messages passing from `from_node`.\n",
    "        \"\"\"\n",
    "        messages_to_factor_node: NDArray = from_node.gather_messages(query_node=self)\n",
    "        \n",
    "        # Backward message passing.\n",
    "        if from_node == self._parent:\n",
    "            self._messages_parent[:, [0]] = (messages_to_factor_node.T @ trans_prob_mtx).T\n",
    "            return None\n",
    "        \n",
    "        # Forward message passing.\n",
    "        for i in range(len(self._children)):\n",
    "            if from_node == self._children[i]:\n",
    "                self._messages_children[:, [i]] = trans_prob_mtx @ messages_to_factor_node\n",
    "                return None\n",
    "    \n",
    "    def get_messages_parent(self) -> NDArray:\n",
    "        return self._messages_parent\n",
    "    \n",
    "    def get_messages_children(self) -> NDArray:\n",
    "        return self._messages_children\n",
    "\n",
    "\n",
    "class Tree:\n",
    "    def __init__(self, root: Node = None):\n",
    "        self._root: Node = root\n",
    "        self._nodes_num: int = 0\n",
    "        self._node_map: Dict[int, Node] = {}\n",
    "        self._internal_nodes: List[Node] = []\n",
    "        self._leaf_nodes: List[Node] = []\n",
    "        self._rng = None # Random number generator\n",
    "        self._states_num: int = None # Number of states\n",
    "        self._trans_prob_mtx: NDArray = None # Transition probability matrix\n",
    "        self._freq: NDArray = None # Discrete probability distriibution of root\n",
    "\n",
    "    def get_root(self) -> Node:\n",
    "        return self._root\n",
    "\n",
    "    def set_root(self, root: Node) -> None:\n",
    "        self._root = root\n",
    "\n",
    "    def add_leaf_node(self, node: Node) -> None:\n",
    "        if node is None or not node.is_leaf(): return None\n",
    "        self._leaf_nodes.append(node)\n",
    "        \n",
    "    def get_leaf_nodes(self) -> List[Node]:\n",
    "        return self._leaf_nodes\n",
    "\n",
    "    def add_internal_node(self, node: Node) -> None:\n",
    "        if node is None or node.is_leaf(): return None\n",
    "        self._internal_nodes.append(node)\n",
    "        \n",
    "    def get_internal_nodes(self) -> List[Node]:\n",
    "        return self._internal_nodes\n",
    "    \n",
    "    def get_node_labels(self) -> Optional[Dict[str, List[int]]]:\n",
    "        if self._root is None: return None\n",
    "        return {\n",
    "            'root': [self._root.get_label()],\n",
    "            'leaf': [i.get_label() for i in self.get_leaf_nodes()],\n",
    "            'internal': [i.get_label() for i in self.get_internal_nodes()]\n",
    "        }\n",
    "    \n",
    "    def build_node_map(self) -> None:\n",
    "        self._node_map.clear()\n",
    "        for node in [*self._leaf_nodes, *self._internal_nodes]:\n",
    "            self._node_map[node.get_label()] = node\n",
    "        \n",
    "    def adjust_nodes_order(self) -> None:\n",
    "        self._leaf_nodes = sorted(self._leaf_nodes)\n",
    "        self._internal_nodes = sorted(self._internal_nodes)\n",
    "        self._nodes_num = len(self._leaf_nodes) + len(self._internal_nodes)\n",
    "        _adjust_nodes_label = lambda l, k: [l[i].set_label(i + k) for i in range(len(l))]\n",
    "        _adjust_nodes_label(self._internal_nodes, len(self._leaf_nodes))\n",
    "        _adjust_nodes_label(self._leaf_nodes, 0)\n",
    "        self.build_node_map()\n",
    "\n",
    "    def write_in_nexus(self, output: str) -> None:\n",
    "        if self._root is None:\n",
    "            raise ValueError('Error! The tree is empty.')\n",
    "\n",
    "        if not os.path.exists(os.path.dirname(output)):\n",
    "            os.makedirs(os.path.dirname(output))\n",
    "\n",
    "        # Write header\n",
    "        with open(output, 'w') as fh:\n",
    "            fh.write('#NEXUS\\n\\n')\n",
    "\n",
    "            # Write taxa block\n",
    "            fh.write('Begin taxa;\\n')\n",
    "            fh.write('\\tDimensions ntax=' + str(len(self._leaf_nodes)) + \";\\n\")\n",
    "            fh.write('\\t\\tTaxlabels\\n')\n",
    "            for node in self._leaf_nodes:\n",
    "                fh.write('\\t\\t\\t' + node.get_node_name() + '\\n')\n",
    "            fh.write('\\t\\t\\t;\\n')\n",
    "            fh.write('End;\\n')\n",
    "\n",
    "            # Write trees block\n",
    "            fh.write('Begin trees;\\n')\n",
    "            fh.write('\\tTranslate\\n')\n",
    "            for node in self._leaf_nodes:\n",
    "                fh.write('\\t\\t{0:4d} {1:s},\\n'.format(node.get_label(), node.get_node_name()))\n",
    "            fh.write(';\\n')\n",
    "            fh.write('tree TREE1 = ')\n",
    "            self._root.write_in_nexus(fh)\n",
    "            fh.write(';\\n')\n",
    "            fh.write('End;\\n')\n",
    "        \n",
    "    def init_rng(self, seed: int) -> None:\n",
    "        self._rng = np.random.default_rng(seed)\n",
    "\n",
    "    def __gen_rand_mtx__(self, dim: Tuple[int, int]) -> NDArray:\n",
    "        ret: NDArray = self._rng.random(dim)\n",
    "        return ret / np.sum(ret, axis=1)[:, None]\n",
    "        \n",
    "    def gen_rand_mtx(self, states_num: int) -> None:\n",
    "        # Generate `self._trans_prob_mtx` and `self._freq`.\n",
    "        self._states_num = states_num\n",
    "        self._trans_prob_mtx = self.__gen_rand_mtx__((states_num, states_num))\n",
    "        self._freq = self.__gen_rand_mtx__((1, states_num))\n",
    "        \n",
    "    def get_trans_prob_mtx(self) -> NDArray:\n",
    "        return self._trans_prob_mtx\n",
    "    \n",
    "    def get_freq(self) -> NDArray:\n",
    "        return self._freq\n",
    "    \n",
    "    ### SOLUTION ###\n",
    "    \n",
    "    def __forward_traverse__(self, node: Node) -> None:\n",
    "        if node.is_leaf(): return None\n",
    "    \n",
    "        for child in node.get_children():\n",
    "            self.__forward_traverse__(child)\n",
    "            node.compute_messages(child, self._trans_prob_mtx)\n",
    "    \n",
    "    def __backward_traverse__(self, node: Node) -> None:\n",
    "        if node.is_leaf(): return None\n",
    "    \n",
    "        for child in node.get_children():\n",
    "            child.compute_messages(node, self._trans_prob_mtx)\n",
    "            self.__backward_traverse__(child)\n",
    "    \n",
    "    def sum_prod(self) -> None:\n",
    "        \"\"\"\n",
    "        TO BE COMPLETED.\n",
    "        \"\"\"\n",
    "        # Allocate and initialize the variables storing the messages for each node.\n",
    "        for node in [*self._leaf_nodes, *self._internal_nodes]:\n",
    "            node.initialize_messages_str(self._states_num, self._freq)\n",
    "        \n",
    "        self.__forward_traverse__(self._root)\n",
    "        self.__backward_traverse__(self._root)\n",
    "    \n",
    "    def get_marginal_prob(self, node_label: int) -> NDArray:\n",
    "        \"\"\"\n",
    "        TO BE COMPLETED.\n",
    "        \"\"\"\n",
    "        if len(self._node_map) == 0:\n",
    "            self.build_node_map()\n",
    "        return self._node_map[node_label].gather_messages()\n",
    "    \n",
    "    def sanity_check(self) -> None:\n",
    "        incorrect_counter = 0\n",
    "        for label, node in self._node_map.items():\n",
    "            prob_sum = np.sum(node.gather_messages())\n",
    "            \n",
    "            # Due to numerical issues even the correct sum of probabilities will not exactly be 1.\n",
    "            if abs(prob_sum - 1) > 1e-10:\n",
    "                incorrect_counter += 1\n",
    "                print('Node {i} has incorrect marginal probabilities which sum up to {prob}.'.format(i = label, prob = prob_sum))\n",
    "        if incorrect_counter == 0:\n",
    "            print('All nodes have correct marginal probabilities which sum up to 1.')\n",
    "\n",
    "\n",
    "def gen_random_tree(\n",
    "    leaf_nodes_num: int,\n",
    "    num_children_min: int = 2,\n",
    "    num_children_max: int = 2,\n",
    "    branch_length_min: float = 1.0,\n",
    "    branch_length_max: float = 1.0\n",
    ") -> Optional[Tree]:\n",
    "    if leaf_nodes_num <= 1: return None\n",
    "\n",
    "    nodes: List[Node] = []\n",
    "    available_nodes: List[Node] = [Node(\n",
    "        label=i, \n",
    "        branch_length=random.uniform(branch_length_min, branch_length_max),\n",
    "        name='n' + str(i)\n",
    "    ) for i in range(leaf_nodes_num)]\n",
    "    \n",
    "    next_node_label: int = leaf_nodes_num\n",
    "    while len(available_nodes) > 1:\n",
    "        children: List[Node] = random.sample(\n",
    "            available_nodes, \n",
    "            min(\n",
    "                len(available_nodes),\n",
    "                random.randint(\n",
    "                    num_children_min, \n",
    "                    num_children_max\n",
    "                )\n",
    "            )\n",
    "        )\n",
    "        parent: Node = Node(next_node_label)\n",
    "        next_node_label += 1\n",
    "        parent.add_children(children)\n",
    "        \n",
    "        nodes.extend(children)\n",
    "        \n",
    "        available_nodes = sorted(list(set(available_nodes) - set(nodes)))\n",
    "        available_nodes.append(parent)\n",
    "    \n",
    "    nodes.append(available_nodes[0])\n",
    "    nodes = sorted(nodes)\n",
    "    tree: Tree = Tree()\n",
    "    \n",
    "    for node in nodes:\n",
    "        if node.is_leaf():\n",
    "            tree.add_leaf_node(node)\n",
    "        else:\n",
    "            if node.is_root():\n",
    "                tree.set_root(node)\n",
    "            tree.add_internal_node(node)\n",
    "    tree.adjust_nodes_order()\n",
    "    return tree"
   ]
  },
  {
   "cell_type": "markdown",
   "id": "578641f2-a34c-440e-86a0-8d48119bb566",
   "metadata": {
    "pycharm": {
     "name": "#%% md\n"
    }
   },
   "source": [
    "## Task 1: Convert into a factor graph\n",
    "Describe the ways to convert a tree-structured directed acyclic graph into a factor graph. To simplify the problem, here we only consider bipartite trees, i.e., each node in such a tree can only has two or none children as well as one or none parent. How many ways of convertion can you think of? Which one is better for the general implementation of the sum product algorithm?"
   ]
  },
  {
   "cell_type": "markdown",
   "id": "b1e89d58-e57d-46bf-9d07-6323f08dd868",
   "metadata": {
    "pycharm": {
     "name": "#%% md\n"
    }
   },
   "source": [
    "## Task 2: Generate a random bipartite tree\n",
    "Generate a random bipartite tree with your favorite seed and number of leaf nodes using `gen_random_tree`. "
   ]
  },
  {
   "cell_type": "code",
   "execution_count": 13,
   "id": "5bf622c7-0ae7-4cd5-8f9b-6d2c3bc6ee92",
   "metadata": {
    "pycharm": {
     "name": "#%%\n"
    }
   },
   "outputs": [
    {
     "data": {
      "text/plain": [
       "{'root': [18],\n",
       " 'leaf': [0, 1, 2, 3, 4, 5, 6, 7, 8, 9],\n",
       " 'internal': [10, 11, 12, 13, 14, 15, 16, 17, 18]}"
      ]
     },
     "execution_count": 13,
     "metadata": {},
     "output_type": "execute_result"
    }
   ],
   "source": [
    "random.seed(1024)\n",
    "tree: Tree = gen_random_tree(10)\n",
    "node_labels = tree.get_node_labels()\n",
    "node_labels"
   ]
  },
  {
   "cell_type": "markdown",
   "id": "358a8e2e-946e-4284-aca6-e50d2d4603a7",
   "metadata": {
    "pycharm": {
     "name": "#%% md\n"
    }
   },
   "source": [
    "To visualize `tree`, save it to disk in *nexus* format, then load it with [this](https://itol.embl.de) website."
   ]
  },
  {
   "cell_type": "code",
   "execution_count": 14,
   "id": "c3404f16-cc83-4653-819b-2cfd62706007",
   "metadata": {
    "pycharm": {
     "name": "#%%\n"
    }
   },
   "outputs": [],
   "source": [
    "tree.write_in_nexus('./tree.nexus')"
   ]
  },
  {
   "cell_type": "markdown",
   "id": "2c4d53e5-8928-4642-bac1-cc0d42bbadde",
   "metadata": {
    "pycharm": {
     "name": "#%% md\n"
    }
   },
   "source": [
    "Convert your tree to a factor graph in a way which you think is proper. It might be helpful for the implementation of the sum product algorithm if you draw it down."
   ]
  },
  {
   "cell_type": "markdown",
   "id": "4e21f1ef-4486-417b-85c4-3f1d1d6936f9",
   "metadata": {
    "pycharm": {
     "name": "#%% md\n"
    }
   },
   "source": [
    "## Task 3: Generate a random transition probability matrix and a random discrete probability distribution for the root\n",
    "For simplificity, we assume that each node on the above tree has exactly the same state space and transition probability matrix. Both the transition paobability matrix and the discrete probability distribution for the root are attributes of a `Tree` instance. "
   ]
  },
  {
   "cell_type": "code",
   "execution_count": 15,
   "id": "f8faa91b-daa2-4d18-8366-415f90611999",
   "metadata": {
    "pycharm": {
     "name": "#%%\n"
    }
   },
   "outputs": [
    {
     "name": "stdout",
     "output_type": "stream",
     "text": [
      "[[0.06306164 0.05052426 0.0724193  0.173083   0.12197825 0.0082174\n",
      "  0.17334695 0.15886832 0.13327333 0.04522755]\n",
      " [0.14319562 0.07158242 0.16763119 0.07698412 0.08902339 0.07520373\n",
      "  0.09921472 0.1235113  0.13535638 0.01829713]\n",
      " [0.14259167 0.00761571 0.16034727 0.14422779 0.04375018 0.10384255\n",
      "  0.14499346 0.15018572 0.06506593 0.03737971]\n",
      " [0.11948919 0.07275108 0.07807397 0.07939412 0.00706084 0.13778768\n",
      "  0.1320264  0.16556754 0.09487049 0.1129787 ]\n",
      " [0.17639379 0.23287325 0.03367839 0.04581124 0.15788826 0.04760717\n",
      "  0.08750918 0.02545672 0.16841329 0.02436872]\n",
      " [0.12575743 0.07242829 0.04272636 0.03175421 0.16090302 0.18959116\n",
      "  0.11333464 0.04240469 0.02596493 0.19513527]\n",
      " [0.16459158 0.08867762 0.09938033 0.06931816 0.10494271 0.14760821\n",
      "  0.1689926  0.00109265 0.07271708 0.08267905]\n",
      " [0.13934187 0.14491108 0.07269741 0.1698104  0.07198416 0.0524716\n",
      "  0.00356875 0.13181404 0.15819986 0.05520084]\n",
      " [0.0735672  0.00713832 0.07318681 0.04425239 0.03980836 0.1866485\n",
      "  0.24599944 0.14447709 0.08822629 0.09669559]\n",
      " [0.06043388 0.07034612 0.11892578 0.10894606 0.10475002 0.00339436\n",
      "  0.16842366 0.08719543 0.06381973 0.21376497]]\n",
      "[[0.08120389 0.15287049 0.09221562 0.09260703 0.13491002 0.11084053\n",
      "  0.11915146 0.04588144 0.01020829 0.16011123]]\n"
     ]
    }
   ],
   "source": [
    "tree.init_rng(1024)\n",
    "tree.gen_rand_mtx(10)\n",
    "print(tree.get_trans_prob_mtx())\n",
    "print(tree.get_freq())"
   ]
  },
  {
   "cell_type": "markdown",
   "id": "8bf0b33b-9787-4c99-9b90-70d6d072672b",
   "metadata": {
    "tags": [],
    "pycharm": {
     "name": "#%% md\n"
    }
   },
   "source": [
    "## Task 4: Implementation of the sum product algorithm\n",
    "Now, with the tree, transition probability matrix and discrete probability distribution available, you are ready to implement the sum product allgorithm. Our goal is to be able to compute the marginal probability of any node except for the root. Therefore, you should complete a full cycle of message passing - both forward and backward, and store the message inside `Tree` as an attribute for future reference. The functions to be completed, named `sum_prod` and `get_marginal_prob`, are member funcitons of the `Tree` class.\n",
    "\n",
    "Hints:\n",
    "1. You might want to add other helper functions, either member functions of the provided classes or independent functions."
   ]
  },
  {
   "cell_type": "markdown",
   "id": "8220b130-e527-49ce-aad4-1e2772e8f5f9",
   "metadata": {
    "pycharm": {
     "name": "#%% md\n"
    }
   },
   "source": [
    "### Solution\n",
    "The factor graph we choose is the simplest one: add a factor node on each of the edges on the original graphical model, and each factor node represents the conditional probability of a child random variable given its parent, i.e., $f(child, parent) = P(child | parent)$. Further more, an extra factor node is added to the root of the tree to include the discrete probability distribution of that node, i.e., $f(root) = P(root)$."
   ]
  },
  {
   "cell_type": "code",
   "execution_count": 16,
   "id": "d0c0ef40-f51f-4117-81a8-ed320d674042",
   "metadata": {
    "pycharm": {
     "name": "#%%\n"
    }
   },
   "outputs": [
    {
     "name": "stdout",
     "output_type": "stream",
     "text": [
      "All nodes have correct marginal probabilities which sum up to 1.\n"
     ]
    }
   ],
   "source": [
    "tree.sum_prod()\n",
    "tree.sanity_check()"
   ]
  },
  {
   "cell_type": "code",
   "execution_count": 17,
   "id": "dfeaf74c-075e-40ac-b1d8-1604ef4e0dc9",
   "metadata": {
    "pycharm": {
     "name": "#%%\n"
    }
   },
   "outputs": [
    {
     "data": {
      "text/plain": [
       "array([[0.12103611],\n",
       "       [0.08125546],\n",
       "       [0.09021348],\n",
       "       [0.0956402 ],\n",
       "       [0.0908228 ],\n",
       "       [0.09677148],\n",
       "       [0.136414  ],\n",
       "       [0.10076518],\n",
       "       [0.10038915],\n",
       "       [0.08669214]])"
      ]
     },
     "execution_count": 17,
     "metadata": {},
     "output_type": "execute_result"
    }
   ],
   "source": [
    "tree.get_marginal_prob(14)"
   ]
  }
 ],
 "metadata": {
  "kernelspec": {
   "display_name": "Python 3 (ipykernel)",
   "language": "python",
   "name": "python3"
  },
  "language_info": {
   "codemirror_mode": {
    "name": "ipython",
    "version": 3
   },
   "file_extension": ".py",
   "mimetype": "text/x-python",
   "name": "python",
   "nbconvert_exporter": "python",
   "pygments_lexer": "ipython3",
   "version": "3.9.7"
  }
 },
 "nbformat": 4,
 "nbformat_minor": 5
}